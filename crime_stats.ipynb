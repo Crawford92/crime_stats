{
 "cells": [
  {
   "cell_type": "code",
   "execution_count": null,
   "id": "e0cf5ef3",
   "metadata": {},
   "outputs": [],
   "source": [
    "#looking at US crime stats across several CSVs from \n",
    "#https://www.kaggle.com/datasets/mathchi/violent-crime-rates-by-us-state\n",
    "#https://www.kaggle.com/datasets/mikejohnsonjr/united-states-crime-rates-by-county\n",
    "#https://www.kaggle.com/code/ayush1498/analysis-of-us-crime-data/\n",
    "#https://cde.ucr.cjis.gov"
   ]
  }
 ],
 "metadata": {
  "kernelspec": {
   "display_name": "Python 3 (ipykernel)",
   "language": "python",
   "name": "python3"
  },
  "language_info": {
   "codemirror_mode": {
    "name": "ipython",
    "version": 3
   },
   "file_extension": ".py",
   "mimetype": "text/x-python",
   "name": "python",
   "nbconvert_exporter": "python",
   "pygments_lexer": "ipython3",
   "version": "3.10.6"
  }
 },
 "nbformat": 4,
 "nbformat_minor": 5
}
